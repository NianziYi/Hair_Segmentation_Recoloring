{
 "cells": [
  {
   "cell_type": "code",
   "execution_count": 1,
   "id": "b25a5aa9",
   "metadata": {},
   "outputs": [],
   "source": [
    "from hyperparameters import *\n",
    "import torch\n",
    "from simple_UNet import UNet\n",
    "import matplotlib.pyplot as plt"
   ]
  },
  {
   "cell_type": "code",
   "execution_count": 2,
   "id": "67a189bd",
   "metadata": {},
   "outputs": [],
   "source": [
    "if torch.cuda.is_available():\n",
    "    device = torch.device('cuda')\n",
    "else:\n",
    "    device = torch.device('cpu')"
   ]
  },
  {
   "cell_type": "code",
   "execution_count": 3,
   "id": "0c446b71",
   "metadata": {},
   "outputs": [],
   "source": [
    "PATH = r\"results_dice/100epochs_0.001lr_20batch/network.pth\"\n",
    "#PATH = r\"/Users/nianziyi/Desktop/Hair_Segmentation_Recoloring/simple_UNet/results_dice/20epochs_0.001lr_20batch/network.pth\"\n",
    "unet = UNet(in_channels=3,\n",
    "            out_channels=1,\n",
    "            n_class=1,\n",
    "            kernel_size=3,\n",
    "            padding=1,\n",
    "            stride=1).to(device)"
   ]
  },
  {
   "cell_type": "code",
   "execution_count": 4,
   "id": "af26645d",
   "metadata": {},
   "outputs": [
    {
     "data": {
      "text/plain": [
       "<All keys matched successfully>"
      ]
     },
     "execution_count": 4,
     "metadata": {},
     "output_type": "execute_result"
    }
   ],
   "source": [
    "unet.load_state_dict(torch.load(PATH, map_location=torch.device('cpu')))"
   ]
  },
  {
   "cell_type": "code",
   "execution_count": 24,
   "id": "b2bfde8c",
   "metadata": {},
   "outputs": [],
   "source": [
    "acc = 0\n",
    "batch_count = 0"
   ]
  },
  {
   "cell_type": "code",
   "execution_count": null,
   "id": "b2345e91",
   "metadata": {},
   "outputs": [],
   "source": [
    "for x,y in test_loader:\n",
    "    index = 10\n",
    "    x = torch.permute(x, (0, 3, 1, 2))\n",
    "    \n",
    "    out = torch.squeeze(unet(x)) #output for compute test accuracy\n",
    "    out_visual = out_to_mask(out[index]) #print one output result\n",
    "    out_nograd = out_visual.detach().numpy()\n",
    "\n",
    "    x = torch.permute(x, (0, 2, 3, 1))\n",
    "    x_visual = x[index] #print one original image\n",
    "    # x = x.detach().numpy()\n",
    "    \n",
    "    y_visual = torch.squeeze(y)[index] #print one original mask\n",
    "    # y_1 = y_1.detach().numpy()\n",
    "    \n",
    "    plt.subplot(1,3,1)\n",
    "    plt.imshow(x_visual)\n",
    "    \n",
    "    plt.subplot(1,3,2)\n",
    "    plt.imshow(y_visual, cmap='gray')\n",
    "    \n",
    "    plt.subplot(1,3,3)\n",
    "    plt.imshow(out_nograd, cmap='gray')\n",
    "\n",
    "    '''\n",
    "    print(out.shape)\n",
    "    print(out_visual.shape)\n",
    "    print(y.shape)\n",
    "    print(y_visual.shape)\n",
    "    print(x.shape)\n",
    "    print(x_visual.shape)\n",
    "    '''\n",
    "    \n",
    "    acc_temp = acc_fn(out, y, batch_size) #compute accuracy for each batch\n",
    "    acc += acc_temp #add current batch accuracy\n",
    "    batch_count += 1 #count number of batches in testset"
   ]
  },
  {
   "cell_type": "code",
   "execution_count": null,
   "id": "8f62ba6a",
   "metadata": {},
   "outputs": [],
   "source": [
    "acc"
   ]
  },
  {
   "cell_type": "code",
   "execution_count": null,
   "id": "219368ac",
   "metadata": {},
   "outputs": [],
   "source": [
    "acc = acc / batch_count\n",
    "print(acc)"
   ]
  },
  {
   "cell_type": "code",
   "execution_count": null,
   "id": "71c4f775",
   "metadata": {},
   "outputs": [],
   "source": []
  },
  {
   "cell_type": "code",
   "execution_count": null,
   "id": "805e4d1d",
   "metadata": {},
   "outputs": [],
   "source": []
  },
  {
   "cell_type": "code",
   "execution_count": 19,
   "id": "22c29e8d",
   "metadata": {},
   "outputs": [],
   "source": [
    "acc = acc_fn(out, y, batch_size)"
   ]
  },
  {
   "cell_type": "code",
   "execution_count": 22,
   "id": "a553cc57",
   "metadata": {},
   "outputs": [
    {
     "name": "stdout",
     "output_type": "stream",
     "text": [
      "0\n"
     ]
    }
   ],
   "source": [
    "print(acc)"
   ]
  }
 ],
 "metadata": {
  "kernelspec": {
   "display_name": "Python 3 (ipykernel)",
   "language": "python",
   "name": "python3"
  },
  "language_info": {
   "codemirror_mode": {
    "name": "ipython",
    "version": 3
   },
   "file_extension": ".py",
   "mimetype": "text/x-python",
   "name": "python",
   "nbconvert_exporter": "python",
   "pygments_lexer": "ipython3",
   "version": "3.10.6"
  }
 },
 "nbformat": 4,
 "nbformat_minor": 5
}
