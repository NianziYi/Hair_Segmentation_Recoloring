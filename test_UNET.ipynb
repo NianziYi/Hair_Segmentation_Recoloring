{
 "cells": [
  {
   "cell_type": "code",
   "execution_count": 2,
   "id": "08138ef3",
   "metadata": {},
   "outputs": [],
   "source": [
    "from hyperparameters import test_loader, out_to_mask\n",
    "import torch\n",
    "from unet import UNet\n",
    "import matplotlib.pyplot as plt"
   ]
  },
  {
   "cell_type": "code",
   "execution_count": 3,
   "id": "3cde9cd2",
   "metadata": {},
   "outputs": [],
   "source": [
    "PATH = 'trained_model/network.pth'\n",
    "unet = UNet(in_channels=3,\n",
    "            out_channels=1,\n",
    "            n_blocks=4,\n",
    "            start_filters=32,\n",
    "            activation='relu',\n",
    "            normalization='batch',\n",
    "            conv_mode='same',\n",
    "            dim=2)"
   ]
  },
  {
   "cell_type": "code",
   "execution_count": 4,
   "id": "52274608",
   "metadata": {},
   "outputs": [
    {
     "data": {
      "text/plain": [
       "<All keys matched successfully>"
      ]
     },
     "execution_count": 4,
     "metadata": {},
     "output_type": "execute_result"
    }
   ],
   "source": [
    "unet.load_state_dict(torch.load(PATH))"
   ]
  },
  {
   "cell_type": "code",
   "execution_count": 7,
   "id": "8805777d",
   "metadata": {},
   "outputs": [
    {
     "data": {
      "image/png": "[encoded data removed]",
      "text/plain": [
       "<Figure size 640x480 with 3 Axes>"
      ]
     },
     "metadata": {},
     "output_type": "display_data"
    }
   ],
   "source": [
    "for x,y in test_loader:\n",
    "    x = torch.permute(x, (0, 3, 2, 1))\n",
    "    out = torch.squeeze(unet(x)[1])\n",
    "    out = out_to_mask(out)\n",
    "    out = out.detach().numpy()\n",
    "\n",
    "\n",
    "\n",
    "\n",
    "    \n",
    "    x = torch.permute(x, (0,3,2,1))\n",
    "    x = x[1]\n",
    "    x = x.detach().numpy()\n",
    "    \n",
    "    y = torch.squeeze(y)[1]\n",
    "    y = y.detach().numpy()\n",
    "    \n",
    "    f, (ax1, ax2,ax3) = plt.subplots(3,1)\n",
    "    ax1 = plt.imshow(x)\n",
    "    ax2 = plt.imshow(y, cmap='gray')\n",
    "    ax3 = plt.imshow(out, cmap='gray')\n",
    "    break"
   ]
  },
  {
   "cell_type": "code",
   "execution_count": null,
   "id": "48b2e290",
   "metadata": {},
   "outputs": [],
   "source": [
    "plt.imshow(x)\n",
    "plt.imshow(y)\n",
    "print(out)"
   ]
  },
  {
   "cell_type": "code",
   "execution_count": null,
   "id": "f1778861",
   "metadata": {},
   "outputs": [],
   "source": [
    "for x,y in test_loader:\n",
    "    y = torch.squeeze(y)[1]\n",
    "    y = y.detach().numpy()\n",
    "    plt.imshow(y, cmap='gray')"
   ]
  },
  {
   "cell_type": "code",
   "execution_count": null,
   "id": "92386526",
   "metadata": {},
   "outputs": [],
   "source": [
    "plt.imshow(out, cmap='gray')"
   ]
  },
  {
   "cell_type": "code",
   "execution_count": null,
   "id": "5dff7e76",
   "metadata": {},
   "outputs": [],
   "source": [
    "dataiter = iter(test_loader)\n",
    "images, labels = next(dataiter)\n",
    "outputs = unet(images)\n",
    "imshow(outputs[0])"
   ]
  }
 ],
 "metadata": {
  "kernelspec": {
   "display_name": "Python 3 (ipykernel)",
   "language": "python",
   "name": "python3"
  },
  "language_info": {
   "codemirror_mode": {
    "name": "ipython",
    "version": 3
   },
   "file_extension": ".py",
   "mimetype": "text/x-python",
   "name": "python",
   "nbconvert_exporter": "python",
   "pygments_lexer": "ipython3",
   "version": "3.10.6"
  }
 },
 "nbformat": 4,
 "nbformat_minor": 5
}
