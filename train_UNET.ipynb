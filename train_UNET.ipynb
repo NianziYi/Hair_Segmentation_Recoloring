{
 "cells": [
  {
   "cell_type": "code",
   "execution_count": 1,
   "id": "10b98e06",
   "metadata": {},
   "outputs": [],
   "source": [
    "import torch\n",
    "import torch.nn as nn\n",
    "from torch.utils.data import Dataset, DataLoader\n",
    "from dataloader import dataset\n",
    "from unet import UNet\n",
    "import os\n",
    "import time"
   ]
  },
  {
   "cell_type": "code",
   "execution_count": 2,
   "id": "199be450",
   "metadata": {},
   "outputs": [],
   "source": [
    "# Generate training, validation and test datasets\n",
    "# random split\n",
    "train_set_size = int(len(dataset)*0.6)\n",
    "valid_set_size = int(len(dataset)*0.2)\n",
    "test_set_size = len(dataset)-train_set_size-valid_set_size\n",
    "train_set, valid_set, test_set = torch.utils.data.random_split(dataset, [train_set_size, valid_set_size, test_set_size])\n",
    "\n",
    "# start to load from customized DataSet object\n",
    "# bring batch size, iterations and epochs together\n",
    "batch_size = 5\n",
    "train_loader = DataLoader(train_set,batch_size,shuffle=False,drop_last=True,pin_memory=False)\n",
    "valid_loader = DataLoader(valid_set,batch_size,shuffle=False,drop_last=True,pin_memory=False)\n",
    "test_loader = DataLoader(test_set,batch_size,shuffle=False,drop_last=True,pin_memory=False)"
   ]
  },
  {
   "cell_type": "code",
   "execution_count": null,
   "id": "b6bab737",
   "metadata": {},
   "outputs": [],
   "source": [
    "for x,y in train_set:\n",
    "    print(x.size())\n",
    "    print(y.size())\n",
    "    break"
   ]
  },
  {
   "cell_type": "code",
   "execution_count": 3,
   "id": "2b373316",
   "metadata": {},
   "outputs": [],
   "source": [
    "model = UNet(in_channels=3,\n",
    "            out_channels=3,\n",
    "            n_blocks=4,\n",
    "            start_filters=32,\n",
    "            activation='relu',\n",
    "            normalization='batch',\n",
    "            conv_mode='same',\n",
    "            dim=2)\n",
    "# x = torch.randn(size=(3, 3, 1024,1024), dtype=torch.float32)\n",
    "# with torch.no_grad():\n",
    "#     out = model(x)\n",
    "    \n",
    "# print(f'Out: {out.shape}')\n",
    "\n",
    "# outpushape: [batch, channel, H, W]"
   ]
  },
  {
   "cell_type": "code",
   "execution_count": null,
   "id": "e83dbf5a",
   "metadata": {},
   "outputs": [],
   "source": [
    "# x = torch.randn(size=(3, 3, 1024,1024), dtype=torch.float32)\n",
    "\n",
    "print(x.view(x.shape[0]*x.shape[2]*x.shape[3], x.shape[1]).shape)"
   ]
  },
  {
   "cell_type": "code",
   "execution_count": null,
   "id": "1fb4eacc",
   "metadata": {},
   "outputs": [],
   "source": [
    "x = torch.randn(size=(5, 3, 1024,1024), dtype=torch.float32)\n",
    "x = x.reshape(5*3*1024, 1024)\n",
    "print(x.shape)"
   ]
  },
  {
   "cell_type": "code",
   "execution_count": 4,
   "id": "833bc72a",
   "metadata": {},
   "outputs": [],
   "source": [
    "batch_size = 5\n",
    "n_iters = int(train_set_size / batch_size)\n",
    "epochs = 10\n",
    "lr = 0.001\n",
    "iterations = epochs * n_iters\n",
    "step_size = 2*n_iters\n",
    "model_name =\"{}epochs_lr{}_step{}\".format(epochs, lr, step_size)\n",
    "save_PATH = './model_name'\n",
    "if not os.path.exists(save_PATH):\n",
    "    os.mkdir(save_PATH)"
   ]
  },
  {
   "cell_type": "code",
   "execution_count": 5,
   "id": "ad493e0e",
   "metadata": {},
   "outputs": [],
   "source": [
    "model = model.float()\n",
    "loss_fn = nn.CrossEntropyLoss()\n",
    "opt = torch.optim.Adam(model.parameters(), lr)"
   ]
  },
  {
   "cell_type": "code",
   "execution_count": 6,
   "id": "dccb662b",
   "metadata": {},
   "outputs": [],
   "source": [
    "def acc_fn(outputs, y):\n",
    "    num_samples = len(y)\n",
    "    equality_matrix = torch.eq(outputs, y)\n",
    "    num_corr_pred = equality_matrix.sum()\n",
    "    acc = num_corr_pred/num_samples\n",
    "    return acc    "
   ]
  },
  {
   "cell_type": "code",
   "execution_count": 7,
   "id": "f0d635d3",
   "metadata": {},
   "outputs": [],
   "source": [
    "def train(model, train_dl, valid_dl, loss_fn, optimizer, acc_fn, epochs=1):\n",
    "    start = time.time()\n",
    "    # model.cuda()\n",
    "\n",
    "    train_loss, valid_loss = [], []\n",
    "\n",
    "    best_acc = 0.0\n",
    "\n",
    "    for epoch in range(epochs):\n",
    "        print('Epoch {}/{}'.format(epoch, epochs - 1))\n",
    "        print('-' * 10)\n",
    "\n",
    "        for phase in ['train', 'valid']:\n",
    "            if phase == 'train':\n",
    "                model.train(True)  # Set trainind mode = true\n",
    "                dataloader = train_dl\n",
    "            else:\n",
    "                model.train(False)  # Set model to evaluate mode\n",
    "                dataloader = valid_dl\n",
    "\n",
    "            running_loss = 0.0\n",
    "            running_acc = 0.0\n",
    "\n",
    "            step = 0\n",
    "\n",
    "            # iterate over data\n",
    "            for x, y in dataloader:\n",
    "                # x = x.cuda()\n",
    "                # y = y.cuda()\n",
    "                x = torch.permute(x, (0, 3, 2, 1))\n",
    "                step += 1\n",
    "\n",
    "                # forward pass\n",
    "                if phase == 'train':\n",
    "                    # zero the gradients\n",
    "                    optimizer.zero_grad()\n",
    "                    outputs = model(x)\n",
    "                    outputs = torch.permute(outputs, (0,2,3,1))\n",
    "                    batch, h, w, channel = outputs.shape\n",
    "                    outputs = outputs.reshape(batch, h*w, channel)\n",
    "                    y = y.reshape(batch, h*w, channel)\n",
    "                    # outputs = torch.permute(outputs, (0, 2, 3, 1)).contiguous().view(-1, inp.size(1))\n",
    "                    \n",
    "                    # y = torch.permute(y, (0,3,2,1))\n",
    "                    y = y.to(torch.float64)\n",
    "                    outputs = outputs.to(torch.float64)\n",
    "                    # print(outputs.shape)\n",
    "                    # print(y.shape)\n",
    "                    \n",
    "                    loss = loss_fn(outputs, y)\n",
    "\n",
    "                    # the backward pass frees the graph memory, so there is no \n",
    "                    # need for torch.no_grad in this training pass\n",
    "                    loss.backward()\n",
    "                    optimizer.step()\n",
    "                    # scheduler.step()\n",
    "\n",
    "                else:\n",
    "                    with torch.no_grad():\n",
    "                        outputs = model(x)\n",
    "                        loss = loss_fn(outputs, y.long())\n",
    "\n",
    "                # stats - whatever is the phase\n",
    "                acc = acc_fn(outputs, y)\n",
    "\n",
    "                running_acc  += acc*dataloader.batch_size\n",
    "                running_loss += loss*dataloader.batch_size \n",
    "\n",
    "                if step % 10 == 0:\n",
    "                    # clear_output(wait=True)\n",
    "                    print('Current step: {}  Loss: {}  Acc: {}  AllocMem (Mb): {}'.format(step, loss, acc, torch.cuda.memory_allocated()/1024/1024))\n",
    "                    # print(torch.cuda.memory_summary())\n",
    "\n",
    "            epoch_loss = running_loss / len(dataloader.dataset)\n",
    "            epoch_acc = running_acc / len(dataloader.dataset)\n",
    "\n",
    "            print('{} Loss: {:.4f} Acc: {}'.format(phase, epoch_loss, epoch_acc))\n",
    "            \n",
    "            return train_loss, valid_loss "
   ]
  },
  {
   "cell_type": "code",
   "execution_count": 8,
   "id": "3e39ad16",
   "metadata": {},
   "outputs": [
    {
     "name": "stdout",
     "output_type": "stream",
     "text": [
      "Epoch 0/9\n",
      "----------\n",
      "torch.Size([5, 262144, 3])\n",
      "torch.Size([5, 262144, 3])\n",
      "torch.Size([5, 262144, 3])\n",
      "torch.Size([5, 262144, 3])\n",
      "torch.Size([5, 262144, 3])\n",
      "torch.Size([5, 262144, 3])\n"
     ]
    },
    {
     "ename": "KeyboardInterrupt",
     "evalue": "",
     "output_type": "error",
     "traceback": [
      "\u001b[1;31m---------------------------------------------------------------------------\u001b[0m",
      "\u001b[1;31mKeyboardInterrupt\u001b[0m                         Traceback (most recent call last)",
      "\u001b[1;32m~\\AppData\\Local\\Temp\\ipykernel_19896\\1404550582.py\u001b[0m in \u001b[0;36m<module>\u001b[1;34m\u001b[0m\n\u001b[1;32m----> 1\u001b[1;33m \u001b[0mtrain_loss\u001b[0m\u001b[1;33m,\u001b[0m \u001b[0mvalid_loss\u001b[0m \u001b[1;33m=\u001b[0m \u001b[0mtrain\u001b[0m\u001b[1;33m(\u001b[0m\u001b[0mmodel\u001b[0m\u001b[1;33m,\u001b[0m \u001b[0mtrain_loader\u001b[0m\u001b[1;33m,\u001b[0m \u001b[0mvalid_loader\u001b[0m\u001b[1;33m,\u001b[0m \u001b[0mloss_fn\u001b[0m\u001b[1;33m,\u001b[0m \u001b[0mopt\u001b[0m\u001b[1;33m,\u001b[0m \u001b[0macc_fn\u001b[0m\u001b[1;33m,\u001b[0m \u001b[0mepochs\u001b[0m\u001b[1;33m)\u001b[0m\u001b[1;33m\u001b[0m\u001b[1;33m\u001b[0m\u001b[0m\n\u001b[0m",
      "\u001b[1;32m~\\AppData\\Local\\Temp\\ipykernel_19896\\1195516257.py\u001b[0m in \u001b[0;36mtrain\u001b[1;34m(model, train_dl, valid_dl, loss_fn, optimizer, acc_fn, epochs)\u001b[0m\n\u001b[0;32m     52\u001b[0m                     \u001b[1;31m# the backward pass frees the graph memory, so there is no\u001b[0m\u001b[1;33m\u001b[0m\u001b[1;33m\u001b[0m\u001b[1;33m\u001b[0m\u001b[0m\n\u001b[0;32m     53\u001b[0m                     \u001b[1;31m# need for torch.no_grad in this training pass\u001b[0m\u001b[1;33m\u001b[0m\u001b[1;33m\u001b[0m\u001b[1;33m\u001b[0m\u001b[0m\n\u001b[1;32m---> 54\u001b[1;33m                     \u001b[0mloss\u001b[0m\u001b[1;33m.\u001b[0m\u001b[0mbackward\u001b[0m\u001b[1;33m(\u001b[0m\u001b[1;33m)\u001b[0m\u001b[1;33m\u001b[0m\u001b[1;33m\u001b[0m\u001b[0m\n\u001b[0m\u001b[0;32m     55\u001b[0m                     \u001b[0moptimizer\u001b[0m\u001b[1;33m.\u001b[0m\u001b[0mstep\u001b[0m\u001b[1;33m(\u001b[0m\u001b[1;33m)\u001b[0m\u001b[1;33m\u001b[0m\u001b[1;33m\u001b[0m\u001b[0m\n\u001b[0;32m     56\u001b[0m                     \u001b[1;31m# scheduler.step()\u001b[0m\u001b[1;33m\u001b[0m\u001b[1;33m\u001b[0m\u001b[1;33m\u001b[0m\u001b[0m\n",
      "\u001b[1;32m~\\anaconda3\\lib\\site-packages\\torch\\_tensor.py\u001b[0m in \u001b[0;36mbackward\u001b[1;34m(self, gradient, retain_graph, create_graph, inputs)\u001b[0m\n\u001b[0;32m    394\u001b[0m                 \u001b[0mcreate_graph\u001b[0m\u001b[1;33m=\u001b[0m\u001b[0mcreate_graph\u001b[0m\u001b[1;33m,\u001b[0m\u001b[1;33m\u001b[0m\u001b[1;33m\u001b[0m\u001b[0m\n\u001b[0;32m    395\u001b[0m                 inputs=inputs)\n\u001b[1;32m--> 396\u001b[1;33m         \u001b[0mtorch\u001b[0m\u001b[1;33m.\u001b[0m\u001b[0mautograd\u001b[0m\u001b[1;33m.\u001b[0m\u001b[0mbackward\u001b[0m\u001b[1;33m(\u001b[0m\u001b[0mself\u001b[0m\u001b[1;33m,\u001b[0m \u001b[0mgradient\u001b[0m\u001b[1;33m,\u001b[0m \u001b[0mretain_graph\u001b[0m\u001b[1;33m,\u001b[0m \u001b[0mcreate_graph\u001b[0m\u001b[1;33m,\u001b[0m \u001b[0minputs\u001b[0m\u001b[1;33m=\u001b[0m\u001b[0minputs\u001b[0m\u001b[1;33m)\u001b[0m\u001b[1;33m\u001b[0m\u001b[1;33m\u001b[0m\u001b[0m\n\u001b[0m\u001b[0;32m    397\u001b[0m \u001b[1;33m\u001b[0m\u001b[0m\n\u001b[0;32m    398\u001b[0m     \u001b[1;32mdef\u001b[0m \u001b[0mregister_hook\u001b[0m\u001b[1;33m(\u001b[0m\u001b[0mself\u001b[0m\u001b[1;33m,\u001b[0m \u001b[0mhook\u001b[0m\u001b[1;33m)\u001b[0m\u001b[1;33m:\u001b[0m\u001b[1;33m\u001b[0m\u001b[1;33m\u001b[0m\u001b[0m\n",
      "\u001b[1;32m~\\anaconda3\\lib\\site-packages\\torch\\autograd\\__init__.py\u001b[0m in \u001b[0;36mbackward\u001b[1;34m(tensors, grad_tensors, retain_graph, create_graph, grad_variables, inputs)\u001b[0m\n\u001b[0;32m    173\u001b[0m     Variable._execution_engine.run_backward(  # Calls into the C++ engine to run the backward pass\n\u001b[0;32m    174\u001b[0m         \u001b[0mtensors\u001b[0m\u001b[1;33m,\u001b[0m \u001b[0mgrad_tensors_\u001b[0m\u001b[1;33m,\u001b[0m \u001b[0mretain_graph\u001b[0m\u001b[1;33m,\u001b[0m \u001b[0mcreate_graph\u001b[0m\u001b[1;33m,\u001b[0m \u001b[0minputs\u001b[0m\u001b[1;33m,\u001b[0m\u001b[1;33m\u001b[0m\u001b[1;33m\u001b[0m\u001b[0m\n\u001b[1;32m--> 175\u001b[1;33m         allow_unreachable=True, accumulate_grad=True)  # Calls into the C++ engine to run the backward pass\n\u001b[0m\u001b[0;32m    176\u001b[0m \u001b[1;33m\u001b[0m\u001b[0m\n\u001b[0;32m    177\u001b[0m def grad(\n",
      "\u001b[1;31mKeyboardInterrupt\u001b[0m: "
     ]
    }
   ],
   "source": [
    "train_loss, valid_loss = train(model, train_loader, valid_loader, loss_fn, opt, acc_fn, epochs)"
   ]
  }
 ],
 "metadata": {
  "kernelspec": {
   "display_name": "Python 3 (ipykernel)",
   "language": "python",
   "name": "python3"
  },
  "language_info": {
   "codemirror_mode": {
    "name": "ipython",
    "version": 3
   },
   "file_extension": ".py",
   "mimetype": "text/x-python",
   "name": "python",
   "nbconvert_exporter": "python",
   "pygments_lexer": "ipython3",
   "version": "3.7.6"
  }
 },
 "nbformat": 4,
 "nbformat_minor": 5
}
