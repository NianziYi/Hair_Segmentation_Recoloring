{
 "cells": [
  {
   "cell_type": "code",
   "execution_count": null,
   "id": "99c7ff53",
   "metadata": {},
   "outputs": [],
   "source": [
    "import matplotlib.image as mpimg\n",
    "import torch\n",
    "from torch.utils.data import Dataset\n",
    "# from torchvision import transforms\n",
    "import torch.nn.functional as F\n",
    "import glob\n",
    "import natsort\n",
    "\n",
    "import os\n",
    "os.environ[\"KMP_DUPLICATE_LIB_OK\"]=\"TRUE\"\n",
    "\n",
    "class DataLoaderSegmentation(Dataset):\n",
    "    def __init__(self, path):\n",
    "        super(DataLoaderSegmentation, self).__init__()\n",
    "        self.img_files = glob.glob(os.path.join(path,'input_image','*.jpg')) \n",
    "        self.mask_files = glob.glob(os.path.join(path,'hair_mask','*.png')) \n",
    "        \n",
    "        self.img_files = natsort.natsorted(self.img_files)\n",
    "        self.mask_files = natsort.natsorted(self.mask_files)\n",
    "\n",
    "    def __getitem__(self, idx):\n",
    "        img_path = self.img_files[idx]\n",
    "        mask_path = self.mask_files[idx]\n",
    "        # print(idx)\n",
    "        \n",
    "        \n",
    "        img = mpimg.imread(img_path)/255\n",
    "        img = torch.from_numpy(img).float()\n",
    "        \n",
    "        mask = mpimg.imread(mask_path)\n",
    "        mask = torch.from_numpy(mask).float()\n",
    "        \n",
    "        return img, mask\n",
    "    \n",
    "    def __len__(self):\n",
    "        return len(self.img_files)\n",
    "    \n",
    "# Load data\n",
    "dataset = DataLoaderSegmentation(\"dataset\")"
   ]
  }
 ],
 "metadata": {
  "kernelspec": {
   "display_name": "Python 3 (ipykernel)",
   "language": "python",
   "name": "python3"
  },
  "language_info": {
   "codemirror_mode": {
    "name": "ipython",
    "version": 3
   },
   "file_extension": ".py",
   "mimetype": "text/x-python",
   "name": "python",
   "nbconvert_exporter": "python",
   "pygments_lexer": "ipython3",
   "version": "3.7.6"
  }
 },
 "nbformat": 4,
 "nbformat_minor": 5
}
