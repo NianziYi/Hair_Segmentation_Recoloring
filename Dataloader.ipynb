{
 "cells": [
  {
   "cell_type": "code",
   "execution_count": 1,
   "id": "50d9436e",
   "metadata": {},
   "outputs": [],
   "source": [
    "import numpy as np\n",
    "import csv\n",
    "import matplotlib.pyplot as plt\n",
    "import matplotlib.image as mpimg\n",
    "%matplotlib inline\n",
    "import torch\n",
    "from torch.utils.data import Dataset, DataLoader\n",
    "#from torchvision import transforms\n",
    "import itertools\n",
    "import torch.nn.functional as F\n",
    "# import cv2\n",
    "import glob\n",
    "import natsort\n",
    "\n",
    "import os\n",
    "os.environ[\"KMP_DUPLICATE_LIB_OK\"]=\"TRUE\""
   ]
  },
  {
   "cell_type": "code",
   "execution_count": 3,
   "id": "6ee2aae9",
   "metadata": {
    "scrolled": true
   },
   "outputs": [],
   "source": [
    "class DataLoaderSegmentation(Dataset):\n",
    "    def __init__(self, path):\n",
    "        super(DataLoaderSegmentation, self).__init__()\n",
    "        self.img_files = glob.glob(os.path.join(path,'input_image','*.jpg')) \n",
    "        self.mask_files = glob.glob(os.path.join(path,'hair_mask','*.png')) \n",
    "        \n",
    "        self.img_files = natsort.natsorted(self.img_files)\n",
    "        self.mask_files = natsort.natsorted(self.mask_files)\n",
    "\n",
    "    def __getitem__(self, idx):\n",
    "        img_path = self.img_files[idx]\n",
    "        mask_path = self.mask_files[idx]\n",
    "        \n",
    "        \n",
    "        img = mpimg.imread(img_path)/255\n",
    "        img = torch.from_numpy(img).float()\n",
    "        \n",
    "        mask = mpimg.imread(mask_path)\n",
    "        mask = torch.from_numpy(mask).float()\n",
    "        \n",
    "        '''\n",
    "        img = np.asarray(Image.open(img_path))\n",
    "        img = torch.from_numpy(img).float()\n",
    "        \n",
    "        mask = np.asarray(Image.open(mask_path))\n",
    "        mask = torch.from_numpy(mask).float()\n",
    "        '''\n",
    "        \n",
    "        return img, mask\n",
    "    \n",
    "    def __len__(self):\n",
    "        return len(self.img_files)"
   ]
  },
  {
   "cell_type": "code",
   "execution_count": 4,
   "id": "aad9d872",
   "metadata": {},
   "outputs": [
    {
     "name": "stdout",
     "output_type": "stream",
     "text": [
      "['dataset/input_image/0.jpg', 'dataset/input_image/1.jpg', 'dataset/input_image/2.jpg', 'dataset/input_image/3.jpg', 'dataset/input_image/4.jpg', 'dataset/input_image/5.jpg', 'dataset/input_image/6.jpg', 'dataset/input_image/7.jpg', 'dataset/input_image/8.jpg', 'dataset/input_image/9.jpg', 'dataset/input_image/10.jpg', 'dataset/input_image/11.jpg', 'dataset/input_image/12.jpg', 'dataset/input_image/13.jpg', 'dataset/input_image/14.jpg', 'dataset/input_image/15.jpg', 'dataset/input_image/16.jpg', 'dataset/input_image/17.jpg', 'dataset/input_image/18.jpg', 'dataset/input_image/19.jpg', 'dataset/input_image/20.jpg', 'dataset/input_image/21.jpg', 'dataset/input_image/22.jpg', 'dataset/input_image/23.jpg', 'dataset/input_image/24.jpg', 'dataset/input_image/25.jpg', 'dataset/input_image/26.jpg', 'dataset/input_image/27.jpg', 'dataset/input_image/28.jpg', 'dataset/input_image/29.jpg']\n",
      "['dataset/hair_mask/00000_hair.png', 'dataset/hair_mask/00001_hair.png', 'dataset/hair_mask/00002_hair.png', 'dataset/hair_mask/00003_hair.png', 'dataset/hair_mask/00004_hair.png', 'dataset/hair_mask/00005_hair.png', 'dataset/hair_mask/00006_hair.png', 'dataset/hair_mask/00007_hair.png', 'dataset/hair_mask/00008_hair.png', 'dataset/hair_mask/00009_hair.png', 'dataset/hair_mask/00010_hair.png', 'dataset/hair_mask/00011_hair.png', 'dataset/hair_mask/00012_hair.png', 'dataset/hair_mask/00013_hair.png', 'dataset/hair_mask/00014_hair.png', 'dataset/hair_mask/00015_hair.png', 'dataset/hair_mask/00016_hair.png', 'dataset/hair_mask/00017_hair.png', 'dataset/hair_mask/00018_hair.png', 'dataset/hair_mask/00019_hair.png', 'dataset/hair_mask/00020_hair.png', 'dataset/hair_mask/00021_hair.png', 'dataset/hair_mask/00022_hair.png', 'dataset/hair_mask/00023_hair.png', 'dataset/hair_mask/00024_hair.png', 'dataset/hair_mask/00025_hair.png', 'dataset/hair_mask/00026_hair.png', 'dataset/hair_mask/00027_hair.png', 'dataset/hair_mask/00028_hair.png', 'dataset/hair_mask/00029_hair.png']\n"
     ]
    }
   ],
   "source": [
    "# Visualize some data\n",
    "# Load data\n",
    "Dataset = DataLoaderSegmentation(\"dataset\")"
   ]
  },
  {
   "cell_type": "code",
   "execution_count": null,
   "id": "af44e717",
   "metadata": {},
   "outputs": [],
   "source": [
    "for i in range(5):\n",
    "    example_img = Dataset[i][0]\n",
    "    example_mask = Dataset[i][1]\n",
    "    \n",
    "    f, (ax1, ax2) = plt.subplots(1,2)\n",
    "    ax1.imshow(example_img)\n",
    "    ax2.imshow(example_mask)"
   ]
  },
  {
   "cell_type": "code",
   "execution_count": null,
   "id": "235720ee",
   "metadata": {
    "scrolled": true
   },
   "outputs": [],
   "source": [
    "test = Dataset[2][0]\n",
    "plt.imshow(test)"
   ]
  }
 ],
 "metadata": {
  "kernelspec": {
   "display_name": "Python 3 (ipykernel)",
   "language": "python",
   "name": "python3"
  },
  "language_info": {
   "codemirror_mode": {
    "name": "ipython",
    "version": 3
   },
   "file_extension": ".py",
   "mimetype": "text/x-python",
   "name": "python",
   "nbconvert_exporter": "python",
   "pygments_lexer": "ipython3",
   "version": "3.10.6"
  }
 },
 "nbformat": 4,
 "nbformat_minor": 5
}
