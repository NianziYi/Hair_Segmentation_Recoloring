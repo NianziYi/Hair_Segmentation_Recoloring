{
 "cells": [
  {
   "cell_type": "code",
   "execution_count": 3,
   "id": "c10d8591",
   "metadata": {},
   "outputs": [],
   "source": [
    "import torch\n",
    "import torch.nn as nn\n",
    "from dataloader import dataset\n",
    "from torch.utils.data import Dataset, DataLoader"
   ]
  },
  {
   "cell_type": "code",
   "execution_count": 9,
   "id": "1f063ef2",
   "metadata": {},
   "outputs": [
    {
     "data": {
      "text/plain": [
       "<torch._C.Generator at 0x12940d278b0>"
      ]
     },
     "execution_count": 9,
     "metadata": {},
     "output_type": "execute_result"
    }
   ],
   "source": [
    "torch.manual_seed(0)"
   ]
  },
  {
   "cell_type": "code",
   "execution_count": 10,
   "id": "b66a25de",
   "metadata": {},
   "outputs": [],
   "source": [
    "# Generate training, validation and test datasets\n",
    "# random split\n",
    "train_set_size = int(len(dataset)*0.6)\n",
    "valid_set_size = int(len(dataset)*0.2)\n",
    "test_set_size = len(dataset)-train_set_size-valid_set_size\n",
    "train_set, valid_set, test_set = torch.utils.data.random_split(dataset, [train_set_size, valid_set_size, test_set_size])"
   ]
  },
  {
   "cell_type": "code",
   "execution_count": 11,
   "id": "35d9e366",
   "metadata": {},
   "outputs": [],
   "source": [
    "# start to load from customized DataSet object\n",
    "# bring batch size, iterations and epochs together\n",
    "batch_size = 5\n",
    "train_loader = DataLoader(train_set,batch_size,shuffle=False,drop_last=True)\n",
    "valid_loader = DataLoader(valid_set,batch_size,shuffle=False,drop_last=True)\n",
    "test_loader = DataLoader(test_set,batch_size,shuffle=False,drop_last=True)"
   ]
  },
  {
   "cell_type": "code",
   "execution_count": 14,
   "id": "e0671d99",
   "metadata": {},
   "outputs": [],
   "source": [
    "# Implement UNET\n",
    "# https://medium.com/analytics-vidhya/unet-implementation-in-pytorch-idiot-developer-da40d955f201\n",
    "class conv_block(nn.Module):\n",
    "    def __init__(self, in_c, out_c):\n",
    "        super().__init__()\n",
    "        self.conv1 = nn.Conv2d(in_c, out_c, kernel_size=3, padding=1)\n",
    "        # self.bn1 = nn.BatchNorm2d(out_c)\n",
    "        \n",
    "        self.conv2 = nn.Conv2d(out_c, out_c, kernel_size=3, padding=1)\n",
    "        # self.bn2 = nn.BatchNorm2d(out_c)\n",
    "        \n",
    "        self.relu = nn.RELU()\n",
    "        \n",
    "    def forward(self, inputs):\n",
    "            x = self.conv1(inputs)\n",
    "            # x = self.bn1(x)\n",
    "            x = self.relu(x)\n",
    "            \n",
    "            x = self.conv2(x)\n",
    "            # x = self.bn2(x)\n",
    "            x = self.relu(x)\n",
    "            return x\n"
   ]
  },
  {
   "cell_type": "code",
   "execution_count": 15,
   "id": "1f47458e",
   "metadata": {},
   "outputs": [],
   "source": [
    "# Encoder Block\n",
    "class encoder_block(nn.Module):\n",
    "    '''\n",
    "    Output:\n",
    "    x: output of conv_block, input of pooling layer\n",
    "    p: output of pooling layer\n",
    "    '''\n",
    "    def __init__(self, in_c, out_c):\n",
    "        super.__init__()\n",
    "        self.conv = conv_block(in_c, out_c)\n",
    "        self.pool = nn.MaxPool2d((2,2))\n",
    "        \n",
    "    def forward(self, inputs):\n",
    "        x = self.conv(inputs)\n",
    "        p = self.pool(x)\n",
    "        return x, p"
   ]
  },
  {
   "cell_type": "code",
   "execution_count": 16,
   "id": "547304b1",
   "metadata": {},
   "outputs": [],
   "source": [
    "# Decoder Block\n",
    "class decoder_block(nn.Module):\n",
    "    def __init__(self, in_c, out_c):\n",
    "        super().__init__()\n",
    "        self.up = nn.ConvTranspose2d(in_c, out_c, kernel_size=2, stride=2, padding=0)\n",
    "        self.conv = conv_block(out_c+out_c, out_c)\n",
    "    \n",
    "    def forward(self, inputs, skip):\n",
    "        x = self.up(inputs)\n",
    "        x = torch.cat([x, skip], axis=1)\n",
    "        x = self.conv(x)\n",
    "        return x    "
   ]
  },
  {
   "cell_type": "code",
   "execution_count": 17,
   "id": "fbc0fc4b",
   "metadata": {},
   "outputs": [],
   "source": [
    "# UNET Architecture\n",
    "class unet(nn.Module):\n",
    "    def __init__(self):\n",
    "        super().__init()\n",
    "        # Encoder\n",
    "        self.e1 = encoder_block(3,64)\n",
    "        self.e2 = encoder_block(64,128)\n",
    "        self.e3 = encoder_block(128,256)\n",
    "        self.e4 = encoder_block(256,512)\n",
    "        \n",
    "        # Bottleneck\n",
    "        self.b = conv_block(512,1024)\n",
    "        \n",
    "        # Decoder\n",
    "        self.d1 = decoder_block(1024,512)\n",
    "        self.d2 = decoder_block(512,256)\n",
    "        self.d3 = decoder_block(256,128)\n",
    "        self.d4 = decoder_block(128,64)\n",
    "        \n",
    "        # Classifier\n",
    "        self.outputs = nn.Conv(64,1, kernel_size=1, padding=0)\n",
    "        \n",
    "    def forward(self, inputs):\n",
    "        # Encoder\n",
    "        s1, p1 = self.e1(inputs)\n",
    "        s2, p2 = self.e1(p1)\n",
    "        s3, p3 = self.e1(p2)\n",
    "        s4, p4 = self.e1(p3)\n",
    "        \n",
    "        # Bottleneck\n",
    "        b = self.b(p4)\n",
    "        \n",
    "        # Decoder\n",
    "        d1 = self.d1(b, s4)\n",
    "        d2 = self.d1(d1, s3)\n",
    "        d3 = self.d1(d2, s2)\n",
    "        d4 = self.d1(d3, s1)\n",
    "        \n",
    "        # Classifier\n",
    "        outputs = self.outputs(64)\n",
    "        \n",
    "        return outputs"
   ]
  }
 ],
 "metadata": {
  "kernelspec": {
   "display_name": "Python 3 (ipykernel)",
   "language": "python",
   "name": "python3"
  },
  "language_info": {
   "codemirror_mode": {
    "name": "ipython",
    "version": 3
   },
   "file_extension": ".py",
   "mimetype": "text/x-python",
   "name": "python",
   "nbconvert_exporter": "python",
   "pygments_lexer": "ipython3",
   "version": "3.7.6"
  }
 },
 "nbformat": 4,
 "nbformat_minor": 5
}
