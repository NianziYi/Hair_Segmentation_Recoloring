{
 "cells": [
  {
   "cell_type": "code",
   "execution_count": 1,
   "id": "c10d8591",
   "metadata": {},
   "outputs": [],
   "source": [
    "import torch\n",
    "import torch.nn as nn\n",
    "from dataloader import dataset\n",
    "from torch.utils.data import Dataset, DataLoader"
   ]
  },
  {
   "cell_type": "code",
   "execution_count": 2,
   "id": "1f063ef2",
   "metadata": {},
   "outputs": [
    {
     "data": {
      "text/plain": [
       "<torch._C.Generator at 0x1c2c3de78b0>"
      ]
     },
     "execution_count": 2,
     "metadata": {},
     "output_type": "execute_result"
    }
   ],
   "source": [
    "torch.manual_seed(0)"
   ]
  },
  {
   "cell_type": "code",
   "execution_count": 3,
   "id": "b66a25de",
   "metadata": {},
   "outputs": [],
   "source": [
    "# Generate training, validation and test datasets\n",
    "# random split\n",
    "train_set_size = int(len(dataset)*0.6)\n",
    "valid_set_size = int(len(dataset)*0.2)\n",
    "test_set_size = len(dataset)-train_set_size-valid_set_size\n",
    "train_set, valid_set, test_set = torch.utils.data.random_split(dataset, [train_set_size, valid_set_size, test_set_size])"
   ]
  },
  {
   "cell_type": "code",
   "execution_count": 4,
   "id": "35d9e366",
   "metadata": {},
   "outputs": [],
   "source": [
    "# start to load from customized DataSet object\n",
    "# bring batch size, iterations and epochs together\n",
    "batch_size = 5\n",
    "train_loader = DataLoader(train_set,batch_size,shuffle=False,drop_last=True)\n",
    "valid_loader = DataLoader(valid_set,batch_size,shuffle=False,drop_last=True)\n",
    "test_loader = DataLoader(test_set,batch_size,shuffle=False,drop_last=True)"
   ]
  },
  {
   "cell_type": "code",
   "execution_count": 5,
   "id": "e0671d99",
   "metadata": {},
   "outputs": [],
   "source": [
    "# Implement UNET\n",
    "# https://medium.com/analytics-vidhya/unet-implementation-in-pytorch-idiot-developer-da40d955f201\n",
    "class conv_block(nn.Module):\n",
    "    def __init__(self, in_c, out_c):\n",
    "        super().__init__()\n",
    "        self.conv1 = nn.Conv2d(in_c, out_c, kernel_size=3, padding=1)\n",
    "        # self.bn1 = nn.BatchNorm2d(out_c)\n",
    "        \n",
    "        self.conv2 = nn.Conv2d(out_c, out_c, kernel_size=3, padding=1)\n",
    "        # self.bn2 = nn.BatchNorm2d(out_c)\n",
    "        \n",
    "        self.relu = nn.RELU()\n",
    "        \n",
    "    def forward(self, inputs):\n",
    "            x = self.conv1(inputs)\n",
    "            # x = self.bn1(x)\n",
    "            x = self.relu(x)\n",
    "            \n",
    "            x = self.conv2(x)\n",
    "            # x = self.bn2(x)\n",
    "            x = self.relu(x)\n",
    "            return x\n"
   ]
  },
  {
   "cell_type": "code",
   "execution_count": 6,
   "id": "1f47458e",
   "metadata": {},
   "outputs": [],
   "source": [
    "# Encoder Block\n",
    "class encoder_block(nn.Module):\n",
    "    '''\n",
    "    Output:\n",
    "    x: output of conv_block, input of pooling layer\n",
    "    p: output of pooling layer\n",
    "    '''\n",
    "    def __init__(self, in_c, out_c):\n",
    "        super.__init__()\n",
    "        self.conv = conv_block(in_c, out_c)\n",
    "        self.pool = nn.MaxPool2d((2,2))\n",
    "        \n",
    "    def forward(self, inputs):\n",
    "        x = self.conv(inputs)\n",
    "        p = self.pool(x)\n",
    "        return x, p"
   ]
  },
  {
   "cell_type": "code",
   "execution_count": 7,
   "id": "547304b1",
   "metadata": {},
   "outputs": [],
   "source": [
    "# Decoder Block\n",
    "class decoder_block(nn.Module):\n",
    "    def __init__(self, in_c, out_c):\n",
    "        super().__init__()\n",
    "        self.up = nn.ConvTranspose2d(in_c, out_c, kernel_size=2, stride=2, padding=0)\n",
    "        self.conv = conv_block(out_c+out_c, out_c)\n",
    "    \n",
    "    def forward(self, inputs, skip):\n",
    "        x = self.up(inputs)\n",
    "        x = torch.cat([x, skip], axis=1)\n",
    "        x = self.conv(x)\n",
    "        return x    "
   ]
  },
  {
   "cell_type": "code",
   "execution_count": 1,
   "id": "fbc0fc4b",
   "metadata": {},
   "outputs": [
    {
     "ename": "NameError",
     "evalue": "name 'nn' is not defined",
     "output_type": "error",
     "traceback": [
      "\u001b[1;31m---------------------------------------------------------------------------\u001b[0m",
      "\u001b[1;31mNameError\u001b[0m                                 Traceback (most recent call last)",
      "\u001b[1;32m~\\AppData\\Local\\Temp\\ipykernel_12696\\3252966863.py\u001b[0m in \u001b[0;36m<module>\u001b[1;34m\u001b[0m\n\u001b[0;32m      1\u001b[0m \u001b[1;31m# UNET Architecture\u001b[0m\u001b[1;33m\u001b[0m\u001b[1;33m\u001b[0m\u001b[1;33m\u001b[0m\u001b[0m\n\u001b[1;32m----> 2\u001b[1;33m \u001b[1;32mclass\u001b[0m \u001b[0munet\u001b[0m\u001b[1;33m(\u001b[0m\u001b[0mnn\u001b[0m\u001b[1;33m.\u001b[0m\u001b[0mModule\u001b[0m\u001b[1;33m)\u001b[0m\u001b[1;33m:\u001b[0m\u001b[1;33m\u001b[0m\u001b[1;33m\u001b[0m\u001b[0m\n\u001b[0m\u001b[0;32m      3\u001b[0m     \u001b[1;32mdef\u001b[0m \u001b[0m__init__\u001b[0m\u001b[1;33m(\u001b[0m\u001b[0mself\u001b[0m\u001b[1;33m)\u001b[0m\u001b[1;33m:\u001b[0m\u001b[1;33m\u001b[0m\u001b[1;33m\u001b[0m\u001b[0m\n\u001b[0;32m      4\u001b[0m         \u001b[0msuper\u001b[0m\u001b[1;33m(\u001b[0m\u001b[1;33m)\u001b[0m\u001b[1;33m.\u001b[0m\u001b[0m__init\u001b[0m\u001b[1;33m(\u001b[0m\u001b[1;33m)\u001b[0m\u001b[1;33m\u001b[0m\u001b[1;33m\u001b[0m\u001b[0m\n\u001b[0;32m      5\u001b[0m         \u001b[1;31m# Encoder\u001b[0m\u001b[1;33m\u001b[0m\u001b[1;33m\u001b[0m\u001b[1;33m\u001b[0m\u001b[0m\n",
      "\u001b[1;31mNameError\u001b[0m: name 'nn' is not defined"
     ]
    }
   ],
   "source": [
    "# UNET Architecture\n",
    "class unet(nn.Module):\n",
    "    def __init__(self):\n",
    "        super().__init()\n",
    "        # Encoder\n",
    "        self.e1 = encoder_block(3,64)\n",
    "        self.e2 = encoder_block(64,128)\n",
    "        self.e3 = encoder_block(128,256)\n",
    "        self.e4 = encoder_block(256,512)\n",
    "        \n",
    "        # Bottleneck\n",
    "        self.b = conv_block(512,1024)\n",
    "        \n",
    "        # Decoder\n",
    "        self.d1 = decoder_block(1024,512)\n",
    "        self.d2 = decoder_block(512,256)\n",
    "        self.d3 = decoder_block(256,128)\n",
    "        self.d4 = decoder_block(128,64)\n",
    "        \n",
    "        # Classifier\n",
    "        self.outputs = nn.Conv(64,1, kernel_size=1, padding=0)\n",
    "        \n",
    "    def forward(self, inputs):\n",
    "        # Encoder\n",
    "        s1, p1 = self.e1(inputs)\n",
    "        print(p1.shape)\n",
    "        s2, p2 = self.e1(p1)\n",
    "        print(p2.shape)\n",
    "        s3, p3 = self.e1(p2)\n",
    "        print(p3.shape)\n",
    "        s4, p4 = self.e1(p3)\n",
    "        \n",
    "        print(p4.shape)\n",
    "        \n",
    "        # Bottleneck\n",
    "        b = self.b(p4)\n",
    "        print(s4.shape)\n",
    "        \n",
    "        # Decoder\n",
    "        d1 = self.d1(b, s4)\n",
    "        print(d1.shape)\n",
    "        d2 = self.d1(d1, s3)\n",
    "        print(d2.shape)\n",
    "        d3 = self.d1(d2, s2)\n",
    "        print(d3.shape)\n",
    "        d4 = self.d1(d3, s1)\n",
    "        \n",
    "        # Classifier\n",
    "        outputs = self.outputs(64)\n",
    "        print(outputs.shape)\n",
    "        \n",
    "        return outputs"
   ]
  }
 ],
 "metadata": {
  "kernelspec": {
   "display_name": "Python 3 (ipykernel)",
   "language": "python",
   "name": "python3"
  },
  "language_info": {
   "codemirror_mode": {
    "name": "ipython",
    "version": 3
   },
   "file_extension": ".py",
   "mimetype": "text/x-python",
   "name": "python",
   "nbconvert_exporter": "python",
   "pygments_lexer": "ipython3",
   "version": "3.7.6"
  }
 },
 "nbformat": 4,
 "nbformat_minor": 5
}
