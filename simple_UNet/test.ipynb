{
 "cells": [
  {
   "cell_type": "code",
   "execution_count": 1,
   "id": "c8684bc5",
   "metadata": {},
   "outputs": [],
   "source": [
    "from hyperparameters import test_loader, out_to_mask\n",
    "import torch\n",
    "from simple_UNet import UNet\n",
    "import matplotlib.pyplot as plt"
   ]
  },
  {
   "cell_type": "code",
   "execution_count": 4,
   "id": "d5ce1b5a",
   "metadata": {},
   "outputs": [],
   "source": [
    "if torch.cuda.is_available():\n",
    "    device = torch.device('cuda')\n",
    "else:\n",
    "    device = torch.device('cpu')"
   ]
  },
  {
   "cell_type": "code",
   "execution_count": 7,
   "id": "dfd624cd",
   "metadata": {},
   "outputs": [],
   "source": [
    "PATH = r\"results\\results\\30epochs_0.001lr_5batch\\network.pth\"\n",
    "unet = UNet(in_channels=3,\n",
    "            out_channels=1,\n",
    "            n_class=1,\n",
    "            kernel_size=3,\n",
    "            padding=1,\n",
    "            stride=1).to(device)"
   ]
  },
  {
   "cell_type": "code",
   "execution_count": 8,
   "id": "227a0a23",
   "metadata": {},
   "outputs": [
    {
     "data": {
      "text/plain": [
       "<All keys matched successfully>"
      ]
     },
     "execution_count": 8,
     "metadata": {},
     "output_type": "execute_result"
    }
   ],
   "source": [
    "unet.load_state_dict(torch.load(PATH, map_location=torch.device('cpu')))"
   ]
  },
  {
   "cell_type": "code",
   "execution_count": 9,
   "id": "15c68833",
   "metadata": {},
   "outputs": [
    {
     "data": {
      "image/png": "[encoded data removed]",
      "text/plain": [
       "<Figure size 432x288 with 3 Axes>"
      ]
     },
     "metadata": {
      "needs_background": "light"
     },
     "output_type": "display_data"
    }
   ],
   "source": [
    "for x,y in test_loader:\n",
    "    x = torch.permute(x, (0, 3, 2, 1))\n",
    "    out = torch.squeeze(unet(x)[1])\n",
    "    out = out_to_mask(out)\n",
    "    out = out.detach().numpy()\n",
    "\n",
    "\n",
    "\n",
    "\n",
    "    \n",
    "    x = torch.permute(x, (0,3,2,1))\n",
    "    x = x[1]\n",
    "    x = x.detach().numpy()\n",
    "    \n",
    "    y = torch.squeeze(y)[1]\n",
    "    y = y.detach().numpy()\n",
    "    \n",
    "    f, (ax1, ax2,ax3) = plt.subplots(3,1)\n",
    "    ax1 = plt.imshow(x)\n",
    "    ax2 = plt.imshow(y, cmap='gray')\n",
    "    ax3 = plt.imshow(out, cmap='gray')\n",
    "    break"
   ]
  },
  {
   "cell_type": "code",
   "execution_count": 14,
   "id": "86906089",
   "metadata": {},
   "outputs": [
    {
     "data": {
      "text/plain": [
       "<matplotlib.image.AxesImage at 0x2cf667299c8>"
      ]
     },
     "execution_count": 14,
     "metadata": {},
     "output_type": "execute_result"
    },
    {
     "data": {
      "image/png": "[encoded data removed]",
      "text/plain": [
       "<Figure size 432x288 with 1 Axes>"
      ]
     },
     "metadata": {
      "needs_background": "light"
     },
     "output_type": "display_data"
    }
   ],
   "source": [
    "plt.imshow(out)"
   ]
  }
 ],
 "metadata": {
  "kernelspec": {
   "display_name": "Python 3 (ipykernel)",
   "language": "python",
   "name": "python3"
  },
  "language_info": {
   "codemirror_mode": {
    "name": "ipython",
    "version": 3
   },
   "file_extension": ".py",
   "mimetype": "text/x-python",
   "name": "python",
   "nbconvert_exporter": "python",
   "pygments_lexer": "ipython3",
   "version": "3.7.6"
  }
 },
 "nbformat": 4,
 "nbformat_minor": 5
}
